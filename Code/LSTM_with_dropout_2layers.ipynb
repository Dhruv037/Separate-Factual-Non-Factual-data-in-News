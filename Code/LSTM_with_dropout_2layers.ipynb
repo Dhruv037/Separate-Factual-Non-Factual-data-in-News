{
 "cells": [
  {
   "cell_type": "code",
   "execution_count": 1,
   "metadata": {},
   "outputs": [],
   "source": [
    "import joblib\n",
    "\n",
    "import torch\n",
    "import torch.nn as nn\n",
    "import torch.optim as opt\n",
    "import torch.autograd as auto\n",
    "from torch.utils.data import TensorDataset,DataLoader\n",
    "import matplotlib.pyplot as plt\n",
    "\n",
    "import numpy as np\n",
    "from sklearn.model_selection import train_test_split\n",
    "# from sklearn.externals import joblib\n",
    "import librosa\n",
    "import matplotlib.pyplot as plt\n",
    "import torch.optim as optim\n",
    "import torch.nn.functional as F"
   ]
  },
  {
   "cell_type": "code",
   "execution_count": 2,
   "metadata": {},
   "outputs": [
    {
     "data": {
      "text/plain": [
       "11112"
      ]
     },
     "execution_count": 2,
     "metadata": {},
     "output_type": "execute_result"
    }
   ],
   "source": [
    "w2v_file='C:/Users/Subhani/Documents/Jupyter IR/Project/Advanced dataset/1/word_embeddings_dataset_1.sav'\n",
    "dataset= joblib.load(w2v_file)\n",
    "len(dataset)"
   ]
  },
  {
   "cell_type": "code",
   "execution_count": 3,
   "metadata": {},
   "outputs": [
    {
     "name": "stdout",
     "output_type": "stream",
     "text": [
      "140 1\n"
     ]
    }
   ],
   "source": [
    "max_len= -1\n",
    "min_len=1000000\n",
    "for i in dataset:\n",
    "    if(max_len<=len(i[0])):\n",
    "        max_len=len(i[0])\n",
    "    if(min_len>=len(i[0])):\n",
    "        min_len=len(i[0])\n",
    "print(max_len,min_len)"
   ]
  },
  {
   "cell_type": "code",
   "execution_count": 4,
   "metadata": {},
   "outputs": [],
   "source": [
    "X,y=[],[]\n",
    "for i in dataset:\n",
    "    temp=i[1]\n",
    "    if(len(i[1])<max_len):\n",
    "        for j in range(max_len-len(i[1])):\n",
    "            pad=[0 for k in range(300)]\n",
    "            temp.append(pad)\n",
    "        X.append(temp)\n",
    "    else:\n",
    "        X.append(i[1])\n",
    "    y.append(i[2])"
   ]
  },
  {
   "cell_type": "code",
   "execution_count": 5,
   "metadata": {},
   "outputs": [],
   "source": [
    "# temp[29]"
   ]
  },
  {
   "cell_type": "code",
   "execution_count": 6,
   "metadata": {},
   "outputs": [
    {
     "name": "stdout",
     "output_type": "stream",
     "text": [
      "11112\n"
     ]
    }
   ],
   "source": [
    "l=140\n",
    "count=0\n",
    "for i in X:\n",
    "    if(l==len(i)):\n",
    "#         print('---')\n",
    "        count+=1\n",
    "print(count)"
   ]
  },
  {
   "cell_type": "code",
   "execution_count": 7,
   "metadata": {},
   "outputs": [],
   "source": [
    "# dataset[1]\n",
    "# dataset[0][2]"
   ]
  },
  {
   "cell_type": "code",
   "execution_count": 8,
   "metadata": {},
   "outputs": [],
   "source": [
    "# X[1]\n",
    "# y[0]"
   ]
  },
  {
   "cell_type": "code",
   "execution_count": 9,
   "metadata": {},
   "outputs": [
    {
     "name": "stdout",
     "output_type": "stream",
     "text": [
      "11112 11112\n"
     ]
    }
   ],
   "source": [
    "print(len(X),len(y))"
   ]
  },
  {
   "cell_type": "code",
   "execution_count": null,
   "metadata": {},
   "outputs": [],
   "source": []
  },
  {
   "cell_type": "code",
   "execution_count": 10,
   "metadata": {},
   "outputs": [],
   "source": [
    "# y_dictionary={'nonfactual':0,\n",
    "#               'factual':1,}\n",
    "\n",
    "# for i in range(0,len(y)):\n",
    "#     y[i]=y_dictionary.get(y[i])"
   ]
  },
  {
   "cell_type": "code",
   "execution_count": 11,
   "metadata": {},
   "outputs": [],
   "source": [
    "X_train, X_test, y_train, y_test = train_test_split(X, y, test_size=0.2, random_state=42)"
   ]
  },
  {
   "cell_type": "code",
   "execution_count": 12,
   "metadata": {},
   "outputs": [],
   "source": [
    "X_train=torch.FloatTensor(X_train)\n",
    "X_test=torch.FloatTensor(X_test)\n",
    "y_train=torch.Tensor(y_train)\n",
    "y_test=torch.Tensor(y_test)"
   ]
  },
  {
   "cell_type": "code",
   "execution_count": 13,
   "metadata": {},
   "outputs": [],
   "source": [
    "BATCH_SIZE = 16"
   ]
  },
  {
   "cell_type": "code",
   "execution_count": 14,
   "metadata": {},
   "outputs": [],
   "source": [
    "train_ds = TensorDataset(X_train, y_train)\n",
    "train_dl = DataLoader(train_ds, batch_size=BATCH_SIZE, shuffle=True)\n",
    "\n",
    "test_ds = TensorDataset(X_test, y_test)\n",
    "test_dl = DataLoader(test_ds, batch_size=BATCH_SIZE * 2)"
   ]
  },
  {
   "cell_type": "code",
   "execution_count": 15,
   "metadata": {},
   "outputs": [],
   "source": [
    "# parameters \n",
    "\n",
    "N_STEPS = 140\n",
    "N_INPUTS = 300\n",
    "N_NEURONS = 300\n",
    "N_OUTPUTS = 2\n",
    "N_EPHOCS = 10"
   ]
  },
  {
   "cell_type": "code",
   "execution_count": 16,
   "metadata": {},
   "outputs": [],
   "source": [
    "class Factual_LSTM(nn.Module):\n",
    "    def __init__(self, batch_size, n_steps, n_inputs, n_neurons, n_outputs):\n",
    "        super(Factual_LSTM, self).__init__()\n",
    "        \n",
    "        self.n_neurons = n_neurons\n",
    "        self.batch_size = batch_size\n",
    "        self.n_steps = n_steps\n",
    "        self.n_inputs = n_inputs\n",
    "        self.n_outputs = n_outputs\n",
    "        \n",
    "        print(batch_size, n_steps, n_inputs, n_neurons, n_outputs)\n",
    "        self.lstm = nn.LSTM(self.n_inputs, self.n_neurons,2,dropout=0.2)\n",
    "#         self.lstm = nn.LSTM(self.n_inputs, self.n_neurons,2)\n",
    "        \n",
    "        self.FC = nn.Linear(self.n_neurons, self.n_outputs)\n",
    "        \n",
    "    def init_hidden(self,):\n",
    "        # (num_layers, batch_size, n_neurons)\n",
    "        return (torch.zeros(1, self.batch_size, self.n_neurons),torch.zeros(1, self.batch_size, self.n_neurons))\n",
    "        \n",
    "    def forward(self, X):\n",
    "        # transforms X to dimensions: n_steps X batch_size X n_inputs\n",
    "        X = X.permute(1, 0, 2) \n",
    "        \n",
    "        self.batch_size = X.size(1)\n",
    "        self.hidden = self.init_hidden()\n",
    "        \n",
    "        lstm_out, self.hidden = self.lstm(X)  \n",
    "        out = self.FC(lstm_out[-1])\n",
    "        \n",
    "        return out.view(-1, self.n_outputs)\n"
   ]
  },
  {
   "cell_type": "code",
   "execution_count": 17,
   "metadata": {},
   "outputs": [
    {
     "name": "stdout",
     "output_type": "stream",
     "text": [
      "16 140 300 300 2\n"
     ]
    }
   ],
   "source": [
    "device = torch.device(\"cuda:0\" if torch.cuda.is_available() else \"cpu\")\n",
    "\n",
    "model = Factual_LSTM(BATCH_SIZE, N_STEPS, N_INPUTS, N_NEURONS, N_OUTPUTS)\n",
    "criterion = F.cross_entropy\n",
    "optimizer = optim.Adam(model.parameters(), lr=5e-3)\n",
    "# optimizer = optim.SGD(model.parameters(), lr =5e-3, momentum=0.9)\n",
    "\n",
    "def get_accuracy(logit, target, batch_size):\n",
    "    corrects = (torch.max(logit, 1)[1].view(target.size()).data == target.data).sum()\n",
    "    accuracy = 100.0 * corrects/batch_size\n",
    "    return accuracy.item()"
   ]
  },
  {
   "cell_type": "code",
   "execution_count": 18,
   "metadata": {},
   "outputs": [],
   "source": [
    "def eval_model(model, val_iter):\n",
    "    total_epoch_loss = 0\n",
    "    valid_acc = 0\n",
    "    total_epoch_acc=0\n",
    "    model.cuda()\n",
    "    model.eval()\n",
    "    num_corrects=0\n",
    "    total=0\n",
    "    with torch.no_grad():\n",
    "        for idx, batch in enumerate(val_iter):\n",
    "            inputs = batch[0]\n",
    "            \n",
    "            target = batch[1]\n",
    "            target = torch.autograd.Variable(target).long()\n",
    "            \n",
    "            inputs=inputs.cuda()\n",
    "            target=target.cuda()\n",
    "            prediction = model(inputs)\n",
    "            loss = criterion(prediction, target)\n",
    "        \n",
    "            _, predicted = torch.max(prediction.data, 1)\n",
    "            num_corrects += (predicted == target).sum().item()\n",
    "            \n",
    "            total+=target.size(0)\n",
    "            total_epoch_loss += loss.item()\n",
    "        acc = 100.0 * num_corrects/total\n",
    "        \n",
    "    return total_epoch_loss/len(val_iter), acc"
   ]
  },
  {
   "cell_type": "code",
   "execution_count": 19,
   "metadata": {},
   "outputs": [
    {
     "name": "stdout",
     "output_type": "stream",
     "text": [
      "Epoch:  0 | Train_Loss: 0.6907 | Train_Accuracy: 54.93 | Validation_Loss: 0.6854 | Validation_Accuracy: 55.96\n",
      "Epoch:  1 | Train_Loss: 0.6894 | Train_Accuracy: 54.89 | Validation_Loss: 0.6867 | Validation_Accuracy: 55.96\n",
      "Epoch:  2 | Train_Loss: 0.6889 | Train_Accuracy: 54.89 | Validation_Loss: 0.6856 | Validation_Accuracy: 55.96\n",
      "Epoch:  3 | Train_Loss: 0.6891 | Train_Accuracy: 54.89 | Validation_Loss: 0.6853 | Validation_Accuracy: 55.96\n",
      "Epoch:  4 | Train_Loss: 0.6894 | Train_Accuracy: 54.89 | Validation_Loss: 0.6867 | Validation_Accuracy: 55.96\n",
      "Epoch:  5 | Train_Loss: 0.6893 | Train_Accuracy: 54.89 | Validation_Loss: 0.6854 | Validation_Accuracy: 55.96\n",
      "Epoch:  6 | Train_Loss: 0.6893 | Train_Accuracy: 54.89 | Validation_Loss: 0.6898 | Validation_Accuracy: 55.96\n",
      "Epoch:  7 | Train_Loss: 0.6896 | Train_Accuracy: 54.89 | Validation_Loss: 0.6855 | Validation_Accuracy: 55.96\n",
      "Epoch:  8 | Train_Loss: 0.6893 | Train_Accuracy: 54.89 | Validation_Loss: 0.6866 | Validation_Accuracy: 55.96\n",
      "Epoch:  9 | Train_Loss: 0.6893 | Train_Accuracy: 54.89 | Validation_Loss: 0.6856 | Validation_Accuracy: 55.96\n"
     ]
    }
   ],
   "source": [
    "for_plot_loss=[]\n",
    "for_plot_acc=[]\n",
    "\n",
    "val_loss=[]\n",
    "val_acc=[]\n",
    "for epoch in range(N_EPHOCS):\n",
    "    train_running_loss = 0.0\n",
    "    train_acc = 0.0\n",
    "    model.cuda()\n",
    "    model.train()\n",
    "    num_corrects=0\n",
    "    total=0\n",
    "    \n",
    "    for i, data in enumerate(train_dl):\n",
    "        optimizer.zero_grad()\n",
    "        \n",
    "        model.hidden = model.init_hidden() \n",
    "        \n",
    "        inputs, labels = data\n",
    "        inputs = inputs.view(-1, 140,300)\n",
    "        \n",
    "        inputs=inputs.cuda()\n",
    "        labels=labels.cuda()\n",
    "        outputs = model(inputs)\n",
    "        loss = criterion(outputs, labels.long())\n",
    "        loss.backward()\n",
    "        optimizer.step()\n",
    "\n",
    "        train_running_loss += loss.detach().item()\n",
    "        \n",
    "        _, predicted = torch.max(outputs.data, 1)\n",
    "        num_corrects += (predicted == labels.long()).sum().item()\n",
    "        total+=labels.size(0)\n",
    "    \n",
    "    acc = 100.0 * num_corrects/total\n",
    "    for_plot_loss.append(train_running_loss/i)\n",
    "    for_plot_acc.append(acc)\n",
    "    \n",
    "    model.eval()\n",
    "    \n",
    "    valid_loss,valid_accuracy=eval_model(model,test_dl)\n",
    "    \n",
    "    val_loss.append(valid_loss)\n",
    "    val_acc.append(valid_accuracy)\n",
    "    \n",
    "#     print('Epoch:  %d | Loss: %.4f | Train Accuracy: %.2f' \n",
    "#           %(epoch, train_running_loss / i, acc),'==>',valid_loss,valid_accuracy)\n",
    "    print('Epoch:  %d | Train_Loss: %.4f | Train_Accuracy: %.2f | Validation_Loss: %.4f | Validation_Accuracy: %.2f' \n",
    "          %(epoch, train_running_loss / i, acc,valid_loss,valid_accuracy))"
   ]
  },
  {
   "cell_type": "code",
   "execution_count": null,
   "metadata": {},
   "outputs": [],
   "source": []
  },
  {
   "cell_type": "code",
   "execution_count": 32,
   "metadata": {},
   "outputs": [
    {
     "data": {
      "image/png": "[encoded data removed]",
      "text/plain": [
       "<Figure size 432x288 with 1 Axes>"
      ]
     },
     "metadata": {
      "needs_background": "light"
     },
     "output_type": "display_data"
    },
    {
     "data": {
      "image/png": "[encoded data removed]",
      "text/plain": [
       "<Figure size 432x288 with 1 Axes>"
      ]
     },
     "metadata": {
      "needs_background": "light"
     },
     "output_type": "display_data"
    },
    {
     "data": {
      "image/png": "[encoded data removed]",
      "text/plain": [
       "<Figure size 432x288 with 1 Axes>"
      ]
     },
     "metadata": {
      "needs_background": "light"
     },
     "output_type": "display_data"
    },
    {
     "data": {
      "image/png": "[encoded data removed]",
      "text/plain": [
       "<Figure size 432x288 with 1 Axes>"
      ]
     },
     "metadata": {
      "needs_background": "light"
     },
     "output_type": "display_data"
    }
   ],
   "source": [
    "import matplotlib.pyplot as plt\n",
    "\n",
    "plt.title('Train loss')\n",
    "plt.plot(range(len(for_plot_loss)),for_plot_loss, color='r')\n",
    "plt.xlabel('#epochs')\n",
    "plt.ylabel('Loss')\n",
    "plt.show()\n",
    "\n",
    "plt.title('Train Accuracy')\n",
    "plt.plot(range(len(for_plot_acc)),for_plot_acc,color='r')\n",
    "plt.xlabel('#epochs')\n",
    "plt.ylabel('Accuracy')\n",
    "plt.show()\n",
    "\n",
    "plt.title('Validation loss')\n",
    "plt.plot(range(len(val_loss)),val_loss,color='b')\n",
    "plt.xlabel('#epochs')\n",
    "plt.ylabel('Loss')\n",
    "plt.show()\n",
    "\n",
    "plt.title('Validation Accuracy')\n",
    "plt.plot(range(len(val_acc)),val_acc,color='b')\n",
    "plt.xlabel('#epochs')\n",
    "plt.ylabel('Accuracy')\n",
    "plt.show()"
   ]
  },
  {
   "cell_type": "code",
   "execution_count": 29,
   "metadata": {},
   "outputs": [
    {
     "data": {
      "image/png": "[encoded data removed]",
      "text/plain": [
       "<Figure size 432x288 with 1 Axes>"
      ]
     },
     "metadata": {
      "needs_background": "light"
     },
     "output_type": "display_data"
    },
    {
     "data": {
      "image/png": "[encoded data removed]",
      "text/plain": [
       "<Figure size 432x288 with 1 Axes>"
      ]
     },
     "metadata": {
      "needs_background": "light"
     },
     "output_type": "display_data"
    }
   ],
   "source": [
    "plt.title('Train and Validation Loss')\n",
    "plt.plot(range(len(for_plot_loss)),for_plot_loss, color='r',label='train set')\n",
    "plt.plot(range(len(val_loss)),val_loss,label='validation set')\n",
    "plt.xlabel('#epochs')\n",
    "plt.ylabel('Loss')\n",
    "plt.legend()\n",
    "plt.show()\n",
    "\n",
    "plt.title('Train and validation Accuracy')\n",
    "plt.plot(range(len(for_plot_acc)),for_plot_acc,color='r',label='train set')\n",
    "plt.plot(range(len(val_acc)),val_acc,label='validation set')\n",
    "plt.xlabel('#epochs')\n",
    "plt.ylabel('Accuracy')\n",
    "plt.legend()\n",
    "plt.show()"
   ]
  },
  {
   "cell_type": "code",
   "execution_count": null,
   "metadata": {},
   "outputs": [],
   "source": []
  }
 ],
 "metadata": {
  "kernelspec": {
   "display_name": "Python 3",
   "language": "python",
   "name": "python3"
  },
  "language_info": {
   "codemirror_mode": {
    "name": "ipython",
    "version": 3
   },
   "file_extension": ".py",
   "mimetype": "text/x-python",
   "name": "python",
   "nbconvert_exporter": "python",
   "pygments_lexer": "ipython3",
   "version": "3.7.1"
  }
 },
 "nbformat": 4,
 "nbformat_minor": 2
}
