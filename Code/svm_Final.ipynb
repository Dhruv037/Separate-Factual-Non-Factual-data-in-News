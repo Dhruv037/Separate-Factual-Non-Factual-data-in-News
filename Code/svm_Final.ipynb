{
 "cells": [
  {
   "cell_type": "markdown",
   "metadata": {},
   "source": [
    "### Importing"
   ]
  },
  {
   "cell_type": "code",
   "execution_count": 62,
   "metadata": {},
   "outputs": [],
   "source": [
    "from sklearn.externals import joblib\n",
    "import numpy as np\n",
    "import matplotlib.pyplot as plt\n",
    "from sklearn import svm\n",
    "from sklearn.model_selection import train_test_split,GridSearchCV\n",
    "from sklearn.svm import LinearSVC\n",
    "from sklearn.metrics import f1_score\n",
    "from sklearn.metrics import accuracy_score,classification_report,precision_recall_fscore_support,precision_score,recall_score,confusion_matrix,auc,roc_curve\n",
    "import seaborn as sns\n",
    "import matplotlib.pyplot as plt\n",
    "from sklearn.preprocessing import MinMaxScaler\n",
    "\n",
    "import warnings\n",
    "# warnings.simplefilter(action='ignore', category=FutureWarning)\n",
    "warnings.filterwarnings(\"ignore\")\n",
    "\n",
    "from prettytable import PrettyTable"
   ]
  },
  {
   "cell_type": "markdown",
   "metadata": {},
   "source": [
    "## Metrics"
   ]
  },
  {
   "cell_type": "code",
   "execution_count": 66,
   "metadata": {},
   "outputs": [],
   "source": [
    "def draw_confusion_matrix(y_actual, y_predicted):\n",
    "    cm=confusion_matrix(y_actual, y_predicted)\n",
    "    labels = ['Non-Factual', 'Factual']\n",
    "    no_of_labels = 2\n",
    "    print(\"\\nConfusion matrix : \")\n",
    "    x = PrettyTable()\n",
    "    print(\"                   Predicted labels →\")\n",
    "    x.field_names = [\"Actual labels ↓\"] + [str(labels[i]) for i in range(no_of_labels)]\n",
    "    for i in range(no_of_labels):\n",
    "        ls = [(str(labels[i]))] + list(cm[i])\n",
    "        x.add_row(ls)\n",
    "    print(x) \n",
    "\n",
    "def draw_roc(y_actual, scores, title=''):\n",
    "    fpr, tpr, thresholds = roc_curve(y_actual, scores, pos_label='1')\n",
    "    roc_auc = auc(fpr, tpr)\n",
    "\n",
    "    plt.plot(fpr,tpr, label = 'AUC: '+str(round(roc_auc, 4)))\n",
    "    plt.plot([0,1],[0,1],'k--')\n",
    "    plt.xlabel('1-Specificity = FPR')\n",
    "    plt.ylabel(\"Sensitivity = TPR = Recall\")\n",
    "    plt.title(\"AUC-ROC Curve: \" + title)\n",
    "    plt.legend(loc = 'lower right')\n",
    "    plt.savefig(title+'-ROC')\n",
    "    plt.show()\n",
    "    \n",
    "def metric(y_test, y_pred,scores, title):\n",
    "    tn, fp, fn, tp = confusion_matrix(y_test, y_pred).ravel()\n",
    "    specificity = tn /(tn + fp)\n",
    "    sensitivity = tp/(tp + fn)\n",
    "    precission = tp/(tp + fp)\n",
    "    f1 = (precission * sensitivity * 2) / (precission + sensitivity)\n",
    "    acc = accuracy_score(y_test, y_pred)\n",
    "    npv = tn/(tn + fn)\n",
    "    fpr = fp/(fp + tn)\n",
    "    rmc = 1.0 - acc\n",
    "    x = PrettyTable()\n",
    "    metr_list = []\n",
    "    x.field_names = [\"Evaluation Metric\", \"Score\"]\n",
    "    x.add_row([\"Accuracy\", round(acc, 4)])\n",
    "    metr_list.append(round(acc, 4))\n",
    "    x.add_row([\"Recall\", round(sensitivity, 4)])\n",
    "    metr_list.append(round(sensitivity, 4))\n",
    "    x.add_row([\"Precision\", round(precission, 4)])\n",
    "    metr_list.append(round(precission, 4))\n",
    "    x.add_row([\"F1 score\", round(f1, 4)])\n",
    "    metr_list.append(round(f1, 4))\n",
    "    print(x)\n",
    "    draw_confusion_matrix(y_test, y_pred)\n",
    "    draw_roc(y_test,scores, title)\n",
    "    print('--------------------------------------------------------------\\n\\n')\n",
    "    return metr_list"
   ]
  },
  {
   "cell_type": "markdown",
   "metadata": {},
   "source": [
    "### loading"
   ]
  },
  {
   "cell_type": "code",
   "execution_count": 37,
   "metadata": {},
   "outputs": [],
   "source": [
    "X=joblib.load('sav_1/vsm.sav')\n",
    "dataset=joblib.load('dataset_with_labels.sav')\n",
    "y=np.array(dataset)[:,1]"
   ]
  },
  {
   "cell_type": "markdown",
   "metadata": {},
   "source": [
    "##### DataSet Noarmalization"
   ]
  },
  {
   "cell_type": "code",
   "execution_count": 4,
   "metadata": {},
   "outputs": [
    {
     "data": {
      "text/plain": [
       "array([[1.        , 1.        , 1.        , ..., 0.        , 0.        ,\n",
       "        0.25      ],\n",
       "       [0.81818182, 0.3       , 0.        , ..., 0.        , 0.        ,\n",
       "        0.25      ],\n",
       "       [1.        , 1.        , 1.        , ..., 0.        , 0.        ,\n",
       "        0.25      ],\n",
       "       ...,\n",
       "       [0.89473684, 0.51351351, 0.16666667, ..., 0.33333333, 0.25      ,\n",
       "        0.25      ],\n",
       "       [0.96969697, 0.375     , 0.12903226, ..., 0.33333333, 0.        ,\n",
       "        0.25      ],\n",
       "       [0.9       , 0.44827586, 0.10714286, ..., 0.        , 0.        ,\n",
       "        0.25      ]])"
      ]
     },
     "execution_count": 4,
     "metadata": {},
     "output_type": "execute_result"
    }
   ],
   "source": [
    "scaler = MinMaxScaler()\n",
    "scaler.fit(X)\n",
    "scaler.transform(X)"
   ]
  },
  {
   "cell_type": "code",
   "execution_count": 5,
   "metadata": {},
   "outputs": [],
   "source": [
    "X_train, X_test, y_train, y_test = train_test_split(X, y, test_size=0.2, random_state=42)"
   ]
  },
  {
   "cell_type": "markdown",
   "metadata": {},
   "source": [
    "### Grid search params"
   ]
  },
  {
   "cell_type": "code",
   "execution_count": 6,
   "metadata": {},
   "outputs": [],
   "source": [
    "Cs = [0.001, 0.01, 0.1, 1, 10]\n",
    "param_grid = {'C': Cs}\n",
    "clf = LinearSVC()"
   ]
  },
  {
   "cell_type": "markdown",
   "metadata": {},
   "source": [
    "### GridSearch"
   ]
  },
  {
   "cell_type": "code",
   "execution_count": 7,
   "metadata": {},
   "outputs": [],
   "source": [
    "grid_search = GridSearchCV(clf, param_grid, cv=5, n_jobs=-1)"
   ]
  },
  {
   "cell_type": "markdown",
   "metadata": {},
   "source": [
    "### Fit"
   ]
  },
  {
   "cell_type": "code",
   "execution_count": 8,
   "metadata": {},
   "outputs": [],
   "source": [
    "best_model = grid_search.fit(X_train, y_train)"
   ]
  },
  {
   "cell_type": "markdown",
   "metadata": {},
   "source": [
    "### Train Data"
   ]
  },
  {
   "cell_type": "code",
   "execution_count": 69,
   "metadata": {},
   "outputs": [
    {
     "name": "stdout",
     "output_type": "stream",
     "text": [
      "+-------------------+--------+\n",
      "| Evaluation Metric | Score  |\n",
      "+-------------------+--------+\n",
      "|      Accuracy     | 0.9525 |\n",
      "|       Recall      | 0.9394 |\n",
      "|     Precision     | 0.9546 |\n",
      "|      F1 score     | 0.947  |\n",
      "+-------------------+--------+\n",
      "\n",
      "Confusion matrix : \n",
      "                   Predicted labels →\n",
      "+-----------------+-------------+---------+\n",
      "| Actual labels ↓ | Non-Factual | Factual |\n",
      "+-----------------+-------------+---------+\n",
      "|   Non-Factual   |     4700    |   179   |\n",
      "|     Factual     |     243     |   3767  |\n",
      "+-----------------+-------------+---------+\n"
     ]
    },
    {
     "data": {
      "image/png": "[encoded data removed]",
      "text/plain": [
       "<Figure size 432x288 with 1 Axes>"
      ]
     },
     "metadata": {
      "needs_background": "light"
     },
     "output_type": "display_data"
    },
    {
     "name": "stdout",
     "output_type": "stream",
     "text": [
      "--------------------------------------------------------------\n",
      "\n",
      "\n"
     ]
    },
    {
     "data": {
      "text/plain": [
       "[0.9525, 0.9394, 0.9546, 0.947]"
      ]
     },
     "execution_count": 69,
     "metadata": {},
     "output_type": "execute_result"
    }
   ],
   "source": [
    "metric(y_train,best_model.predict(X_train),best_model.decision_function(X_train),'SVM')"
   ]
  },
  {
   "cell_type": "markdown",
   "metadata": {},
   "source": [
    "### Test Data"
   ]
  },
  {
   "cell_type": "code",
   "execution_count": 70,
   "metadata": {},
   "outputs": [
    {
     "name": "stdout",
     "output_type": "stream",
     "text": [
      "+-------------------+--------+\n",
      "| Evaluation Metric | Score  |\n",
      "+-------------------+--------+\n",
      "|      Accuracy     | 0.951  |\n",
      "|       Recall      | 0.9438 |\n",
      "|     Precision     | 0.9448 |\n",
      "|      F1 score     | 0.9443 |\n",
      "+-------------------+--------+\n",
      "\n",
      "Confusion matrix : \n",
      "                   Predicted labels →\n",
      "+-----------------+-------------+---------+\n",
      "| Actual labels ↓ | Non-Factual | Factual |\n",
      "+-----------------+-------------+---------+\n",
      "|   Non-Factual   |     1190    |    54   |\n",
      "|     Factual     |      55     |   924   |\n",
      "+-----------------+-------------+---------+\n"
     ]
    },
    {
     "data": {
      "image/png": "[encoded data removed]",
      "text/plain": [
       "<Figure size 432x288 with 1 Axes>"
      ]
     },
     "metadata": {
      "needs_background": "light"
     },
     "output_type": "display_data"
    },
    {
     "name": "stdout",
     "output_type": "stream",
     "text": [
      "--------------------------------------------------------------\n",
      "\n",
      "\n"
     ]
    },
    {
     "data": {
      "text/plain": [
       "[0.951, 0.9438, 0.9448, 0.9443]"
      ]
     },
     "execution_count": 70,
     "metadata": {},
     "output_type": "execute_result"
    }
   ],
   "source": [
    "metric(y_test,best_model.predict(X_test),best_model.decision_function(X_test),'SVM')"
   ]
  },
  {
   "cell_type": "code",
   "execution_count": 72,
   "metadata": {},
   "outputs": [],
   "source": [
    "# cm=confusion_matrix(y_test, best_model.predict(X_test))\n",
    "# ax= plt.subplot()\n",
    "# sns.heatmap(cm, annot=True, ax = ax,fmt='d',cmap='tab20c_r'); #annot=True to annotate cells\n",
    "\n",
    "# # labels, title and ticks\n",
    "# ax.set_xlabel('Predicted labels');ax.set_ylabel('True labels'); \n",
    "# ax.set_title('Confusion Matrix'); \n",
    "# ax.xaxis.set_ticklabels(['non_fact', 'fact']); ax.yaxis.set_ticklabels(['non_fact', 'fact']);"
   ]
  },
  {
   "cell_type": "code",
   "execution_count": 12,
   "metadata": {},
   "outputs": [],
   "source": [
    "# target_names = ['0','1']\n",
    "# print(classification_report(y_test, y_pred, target_names=target_names))"
   ]
  }
 ],
 "metadata": {
  "kernelspec": {
   "display_name": "Python 3",
   "language": "python",
   "name": "python3"
  },
  "language_info": {
   "codemirror_mode": {
    "name": "ipython",
    "version": 3
   },
   "file_extension": ".py",
   "mimetype": "text/x-python",
   "name": "python",
   "nbconvert_exporter": "python",
   "pygments_lexer": "ipython3",
   "version": "3.7.1"
  }
 },
 "nbformat": 4,
 "nbformat_minor": 2
}
