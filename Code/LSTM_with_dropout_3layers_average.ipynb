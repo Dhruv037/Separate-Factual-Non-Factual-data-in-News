{
 "cells": [
  {
   "cell_type": "code",
   "execution_count": 1,
   "metadata": {},
   "outputs": [],
   "source": [
    "import joblib\n",
    "\n",
    "import torch\n",
    "import torch.nn as nn\n",
    "import torch.optim as opt\n",
    "import torch.autograd as auto\n",
    "from torch.utils.data import TensorDataset,DataLoader\n",
    "import matplotlib.pyplot as plt\n",
    "\n",
    "import numpy as np\n",
    "from sklearn.model_selection import train_test_split\n",
    "# from sklearn.externals import joblib\n",
    "import librosa\n",
    "import matplotlib.pyplot as plt\n",
    "import torch.optim as optim\n",
    "import torch.nn.functional as F"
   ]
  },
  {
   "cell_type": "code",
   "execution_count": 2,
   "metadata": {},
   "outputs": [
    {
     "data": {
      "text/plain": [
       "11112"
      ]
     },
     "execution_count": 2,
     "metadata": {},
     "output_type": "execute_result"
    }
   ],
   "source": [
    "w2v_file='C:/Users/Subhani/Documents/Jupyter IR/Project/Advanced dataset/1/word_embeddings_dataset_1.sav'\n",
    "dataset= joblib.load(w2v_file)\n",
    "len(dataset)"
   ]
  },
  {
   "cell_type": "code",
   "execution_count": 3,
   "metadata": {},
   "outputs": [],
   "source": [
    "# max_len= -1\n",
    "# min_len=1000000\n",
    "# for i in dataset:\n",
    "#     if(max_len<=len(i[0])):\n",
    "#         max_len=len(i[0])\n",
    "#     if(min_len>=len(i[0])):\n",
    "#         min_len=len(i[0])\n",
    "# print(max_len,min_len)"
   ]
  },
  {
   "cell_type": "code",
   "execution_count": 4,
   "metadata": {},
   "outputs": [],
   "source": [
    "max_len=140"
   ]
  },
  {
   "cell_type": "code",
   "execution_count": 5,
   "metadata": {},
   "outputs": [
    {
     "name": "stdout",
     "output_type": "stream",
     "text": [
      "0 : 0\n",
      "1 : 36\n",
      "2 : 30\n",
      "3 : 46\n",
      "4 : 62\n",
      "5 : 128\n",
      "6 : 160\n",
      "7 : 184\n",
      "8 : 195\n",
      "9 : 269\n",
      "10 : 232\n",
      "11 : 274\n",
      "12 : 277\n",
      "13 : 332\n",
      "14 : 338\n",
      "15 : 317\n",
      "16 : 359\n",
      "17 : 360\n",
      "18 : 386\n",
      "19 : 366\n",
      "20 : 355\n",
      "21 : 329\n",
      "22 : 370\n",
      "23 : 338\n",
      "24 : 334\n",
      "25 : 371\n",
      "26 : 334\n",
      "27 : 320\n",
      "28 : 315\n",
      "29 : 284\n",
      "30 : 288\n",
      "31 : 252\n",
      "32 : 281\n",
      "33 : 233\n",
      "34 : 241\n",
      "35 : 202\n",
      "36 : 198\n",
      "37 : 165\n",
      "38 : 160\n",
      "39 : 144\n",
      "40 : 146\n",
      "41 : 118\n",
      "42 : 110\n",
      "43 : 114\n",
      "44 : 102\n",
      "45 : 85\n",
      "46 : 68\n",
      "47 : 61\n",
      "48 : 53\n",
      "49 : 37\n",
      "50 : 30\n",
      "51 : 40\n",
      "52 : 30\n",
      "53 : 30\n",
      "54 : 22\n",
      "55 : 22\n",
      "56 : 14\n",
      "57 : 20\n",
      "58 : 13\n",
      "59 : 15\n",
      "60 : 9\n",
      "61 : 15\n",
      "62 : 15\n",
      "63 : 9\n",
      "64 : 6\n",
      "65 : 3\n",
      "66 : 6\n",
      "67 : 10\n",
      "68 : 3\n",
      "69 : 3\n",
      "70 : 5\n",
      "71 : 5\n",
      "72 : 0\n",
      "73 : 3\n",
      "74 : 2\n",
      "75 : 1\n",
      "76 : 4\n",
      "77 : 2\n",
      "78 : 1\n",
      "79 : 1\n",
      "80 : 3\n",
      "81 : 0\n",
      "82 : 0\n",
      "83 : 1\n",
      "84 : 0\n",
      "85 : 0\n",
      "86 : 0\n",
      "87 : 0\n",
      "88 : 0\n",
      "89 : 0\n",
      "90 : 1\n",
      "91 : 0\n",
      "92 : 2\n",
      "93 : 2\n",
      "94 : 0\n",
      "95 : 0\n",
      "96 : 0\n",
      "97 : 0\n",
      "98 : 1\n",
      "99 : 0\n",
      "100 : 0\n",
      "101 : 0\n",
      "102 : 0\n",
      "103 : 0\n",
      "104 : 1\n",
      "105 : 0\n",
      "106 : 0\n",
      "107 : 0\n",
      "108 : 0\n",
      "109 : 0\n",
      "110 : 0\n",
      "111 : 0\n",
      "112 : 0\n",
      "113 : 0\n",
      "114 : 0\n",
      "115 : 1\n",
      "116 : 0\n",
      "117 : 0\n",
      "118 : 0\n",
      "119 : 0\n",
      "120 : 0\n",
      "121 : 0\n",
      "122 : 0\n",
      "123 : 0\n",
      "124 : 0\n",
      "125 : 0\n",
      "126 : 0\n",
      "127 : 0\n",
      "128 : 0\n",
      "129 : 0\n",
      "130 : 0\n",
      "131 : 0\n",
      "132 : 0\n",
      "133 : 0\n",
      "134 : 0\n",
      "135 : 0\n",
      "136 : 0\n",
      "137 : 1\n",
      "138 : 0\n",
      "139 : 0\n",
      "140 : 1\n"
     ]
    },
    {
     "data": {
      "text/plain": [
       "78.80851063829788"
      ]
     },
     "execution_count": 5,
     "metadata": {},
     "output_type": "execute_result"
    }
   ],
   "source": [
    "counter=[0 for i in range(141)]\n",
    "\n",
    "for i in dataset:\n",
    "    counter[len(i[1])]= counter[len(i[1])] + 1\n",
    "\n",
    "for i in range(141):\n",
    "    print(i,':',counter[i])\n",
    "\n",
    "np.mean(counter)"
   ]
  },
  {
   "cell_type": "code",
   "execution_count": 6,
   "metadata": {},
   "outputs": [],
   "source": [
    "X,y=[],[]\n",
    "for i in dataset:\n",
    "    temp=i[1]\n",
    "    \n",
    "    if(len(i[1])<max_len):\n",
    "        for j in range(max_len-len(i[1])):\n",
    "            pad=[0 for k in range(300)]\n",
    "            temp.append(pad)\n",
    "        X.append(temp)\n",
    "    else:\n",
    "        X.append(i[1])\n",
    "    y.append(i[2])"
   ]
  },
  {
   "cell_type": "code",
   "execution_count": 7,
   "metadata": {},
   "outputs": [],
   "source": [
    "X=np.asarray(X)"
   ]
  },
  {
   "cell_type": "code",
   "execution_count": 8,
   "metadata": {},
   "outputs": [],
   "source": [
    "new_X=[]\n",
    "\n",
    "for i in range(len(X)):\n",
    "    temp=np.mean(X[i],axis=0,keepdims=True)\n",
    "#     X[i]=temp\n",
    "    new_X.append(temp)"
   ]
  },
  {
   "cell_type": "code",
   "execution_count": 9,
   "metadata": {},
   "outputs": [],
   "source": [
    "# l=140\n",
    "# count=0\n",
    "# for i in X:\n",
    "#     if(l==len(i)):\n",
    "# #         print('---')\n",
    "#         count+=1\n",
    "# print(count)"
   ]
  },
  {
   "cell_type": "code",
   "execution_count": 10,
   "metadata": {},
   "outputs": [],
   "source": [
    "train_X=[]\n",
    "\n",
    "for i in new_X:\n",
    "    train_X.append(i[0])"
   ]
  },
  {
   "cell_type": "code",
   "execution_count": 11,
   "metadata": {
    "scrolled": true
   },
   "outputs": [
    {
     "data": {
      "text/plain": [
       "11112"
      ]
     },
     "execution_count": 11,
     "metadata": {},
     "output_type": "execute_result"
    }
   ],
   "source": [
    "len(train_X)"
   ]
  },
  {
   "cell_type": "code",
   "execution_count": 12,
   "metadata": {},
   "outputs": [],
   "source": [
    "temp_x=[]\n",
    "\n",
    "for i in train_X:\n",
    "    l_temp=[]\n",
    "    for j in i:\n",
    "        l_temp.append([j])\n",
    "    temp_x.append(l_temp)"
   ]
  },
  {
   "cell_type": "code",
   "execution_count": 13,
   "metadata": {},
   "outputs": [
    {
     "data": {
      "text/plain": [
       "[[-0.012199440452137163],\n",
       " [0.05298086573768939],\n",
       " [0.0029068594133215293],\n",
       " [0.0019670916704594026],\n",
       " [0.008933290546493871],\n",
       " [-0.024188383523973504],\n",
       " [-0.02404488330440862],\n",
       " [0.004582059140583235],\n",
       " [0.013381487784707652],\n",
       " [-0.02257917704326766],\n",
       " [-0.02187876240017691],\n",
       " [0.0034682752396162997],\n",
       " [-0.009163295821885445],\n",
       " [0.04298273813744475],\n",
       " [-0.052745633625558445],\n",
       " [-0.009287157871170036],\n",
       " [0.042441080790013075],\n",
       " [-0.01617152692217912],\n",
       " [0.0077864873149207725],\n",
       " [0.006544634300683226],\n",
       " [-0.022978974472581674],\n",
       " [-0.015411352406122856],\n",
       " [-0.016787969997884438],\n",
       " [0.017838463726054344],\n",
       " [-0.02298450005806184],\n",
       " [0.010933673498220742],\n",
       " [-0.017639266726161753],\n",
       " [-0.003361061800803457],\n",
       " [0.004698575604041772],\n",
       " [-0.012023692458335842],\n",
       " [0.03500282647354262],\n",
       " [-0.04136978497595659],\n",
       " [0.011025372258570445],\n",
       " [0.003217078057215466],\n",
       " [-0.02225298114353791],\n",
       " [-0.005921875226444432],\n",
       " [-0.03265477694304926],\n",
       " [-0.027070353818791252],\n",
       " [-0.008568167119769246],\n",
       " [-0.0028040004910768143],\n",
       " [-0.009709946550096252],\n",
       " [0.04059810853712926],\n",
       " [0.016160001133435537],\n",
       " [0.008250407475445951],\n",
       " [0.032829412228810334],\n",
       " [-0.010936034484101194],\n",
       " [0.004181271001497017],\n",
       " [-0.017179486185445316],\n",
       " [0.0053797204080703],\n",
       " [-0.004861944328461374],\n",
       " [0.04540051430729883],\n",
       " [-0.02829930389499558],\n",
       " [0.023631174523117287],\n",
       " [-0.01748854780037488],\n",
       " [-0.008786705379108233],\n",
       " [-0.018102041984509144],\n",
       " [-0.00980693372465404],\n",
       " [0.013921896374085918],\n",
       " [-0.0400360205510099],\n",
       " [0.024554881029429713],\n",
       " [0.03237867226624595],\n",
       " [-0.0031710726558230816],\n",
       " [0.03373650379944593],\n",
       " [-0.005393303837627173],\n",
       " [0.006765990627796523],\n",
       " [0.0018757992091455629],\n",
       " [0.014253041191425706],\n",
       " [0.0008523186161515437],\n",
       " [-0.029504498120929513],\n",
       " [-0.001344954568360533],\n",
       " [0.0017869805199942285],\n",
       " [-0.008474843624779689],\n",
       " [-0.029435686401224563],\n",
       " [0.007813452504342422],\n",
       " [-0.003799022182023951],\n",
       " [0.042927243301112736],\n",
       " [0.01736925531710897],\n",
       " [0.022410303313517944],\n",
       " [-0.012436779555199402],\n",
       " [-0.00565399415021862],\n",
       " [-0.025318885035812855],\n",
       " [0.007198913767933845],\n",
       " [0.011556898656168154],\n",
       " [-0.0024388717088316167],\n",
       " [0.000575726991519332],\n",
       " [-0.02249345521309546],\n",
       " [-0.006811298721835815],\n",
       " [-0.010818145251167671],\n",
       " [-0.018169030806581887],\n",
       " [0.019685074520696486],\n",
       " [-0.006144615537154355],\n",
       " [-0.013513992590430592],\n",
       " [-0.01842596341240486],\n",
       " [-0.011459642252884806],\n",
       " [0.017744149221107362],\n",
       " [0.019164146423073753],\n",
       " [0.02465362948423717],\n",
       " [0.024844864722607392],\n",
       " [-0.02407193008766626],\n",
       " [0.009113112045452],\n",
       " [-0.0010593045070501311],\n",
       " [0.003289283294829407],\n",
       " [0.022103556418525322],\n",
       " [-0.04041281777567097],\n",
       " [-0.036256867966481615],\n",
       " [-0.023245801986195146],\n",
       " [0.0014430115174036474],\n",
       " [-0.022895085140563813],\n",
       " [-0.03829722645792312],\n",
       " [0.03810352979926392],\n",
       " [0.012238735316454299],\n",
       " [0.01925815036520362],\n",
       " [0.001957079555307116],\n",
       " [-0.01647007302048483],\n",
       " [0.008061369425351066],\n",
       " [0.0014345666859298944],\n",
       " [-0.007461229475614215],\n",
       " [0.025205818919597993],\n",
       " [-0.02121704584652824],\n",
       " [0.028294185277939376],\n",
       " [0.01667542165211801],\n",
       " [-0.016011590430779116],\n",
       " [0.007516893238893577],\n",
       " [0.020215290538700564],\n",
       " [-0.02655529174953699],\n",
       " [0.01654883497976698],\n",
       " [-0.0030483378962214503],\n",
       " [-0.03099869222912405],\n",
       " [-0.02156770460922936],\n",
       " [0.0323569078464061],\n",
       " [-0.018714168826617035],\n",
       " [-0.012651335444700505],\n",
       " [-0.0014515245300052422],\n",
       " [-0.002710975260872926],\n",
       " [0.017100579903594086],\n",
       " [-0.038188158487901094],\n",
       " [-0.03110021775189255],\n",
       " [0.01867219367330628],\n",
       " [-0.02354183275851288],\n",
       " [-0.025906304230115244],\n",
       " [-0.013188833184540272],\n",
       " [-0.0022718769032508135],\n",
       " [-0.004519980086895105],\n",
       " [-0.0066648135626954695],\n",
       " [0.018671183742117136],\n",
       " [0.0014336811378598212],\n",
       " [0.005559190937700415],\n",
       " [-0.009083968587011831],\n",
       " [-0.018719119532033802],\n",
       " [0.007644222703363214],\n",
       " [-0.03439931653972183],\n",
       " [0.00322682469018868],\n",
       " [-0.0021953193021805157],\n",
       " [-0.003300953842699528],\n",
       " [-0.016784246339063558],\n",
       " [0.003604228373816503],\n",
       " [0.02982835857962657],\n",
       " [-0.009075828485323914],\n",
       " [0.04311183724785224],\n",
       " [0.012391734000162354],\n",
       " [-0.0009312521466719253],\n",
       " [0.05227344046745982],\n",
       " [-0.0030225948097982575],\n",
       " [0.01511091401334852],\n",
       " [0.0022180722477579753],\n",
       " [-0.014640546320671481],\n",
       " [0.04312801236020667],\n",
       " [0.010796855913940816],\n",
       " [0.04514575515474592],\n",
       " [0.049762937133865696],\n",
       " [-0.009687245971456702],\n",
       " [-0.0033135579832430395],\n",
       " [-0.01624489572132006],\n",
       " [0.01967979811015539],\n",
       " [-0.04216258174606732],\n",
       " [0.020611613536519663],\n",
       " [0.019108130996547904],\n",
       " [-0.004319552105984517],\n",
       " [0.027079434233850667],\n",
       " [-0.009244117137443806],\n",
       " [-0.0064412407252737985],\n",
       " [0.009217253121148263],\n",
       " [0.018667585788560766],\n",
       " [-0.032682660434927256],\n",
       " [-0.018852891659896287],\n",
       " [0.0009969569476587432],\n",
       " [-0.019075251147816222],\n",
       " [0.004880552889413334],\n",
       " [0.006547446003449814],\n",
       " [-0.003182835566778002],\n",
       " [-0.009088040239709829],\n",
       " [-0.03277363284557525],\n",
       " [0.0016286264963647618],\n",
       " [0.021819416979061704],\n",
       " [0.008305399199681623],\n",
       " [0.02285232788583796],\n",
       " [0.02413759924404855],\n",
       " [0.019064822613394688],\n",
       " [0.00886848639929667],\n",
       " [-0.02435992967470416],\n",
       " [-0.02290038508363068],\n",
       " [-0.0028667045956743617],\n",
       " [-0.001443095232493111],\n",
       " [0.004135953588411212],\n",
       " [0.023981296523873295],\n",
       " [0.0003135030806463744],\n",
       " [-0.007773565959983638],\n",
       " [-0.035162549931555986],\n",
       " [0.006970696988615341],\n",
       " [-0.027510357282257505],\n",
       " [-0.009380148577370814],\n",
       " [-0.00943234824974622],\n",
       " [0.005958213868351387],\n",
       " [-0.008917256617652518],\n",
       " [0.007244546842827861],\n",
       " [0.026329858102170485],\n",
       " [0.008514857811055014],\n",
       " [0.018072933410959585],\n",
       " [0.020403684695650424],\n",
       " [0.016596235617596124],\n",
       " [0.028854557971603103],\n",
       " [-0.004414368234574795],\n",
       " [-0.013881211009408747],\n",
       " [0.056444538690681965],\n",
       " [-0.0068982960664600666],\n",
       " [0.018822224387102845],\n",
       " [-0.006074081604102892],\n",
       " [-0.01146963297921632],\n",
       " [-0.01901376012579671],\n",
       " [-0.039066986167537315],\n",
       " [0.01424823911594493],\n",
       " [-0.0211976076609322],\n",
       " [-0.01290827731801463],\n",
       " [0.029956632127453173],\n",
       " [-0.01482111083210579],\n",
       " [-0.05679254177791466],\n",
       " [-0.022684903481006456],\n",
       " [-0.00077251962918256],\n",
       " [-0.014971014580390017],\n",
       " [0.02478525506864701],\n",
       " [0.01123571547546557],\n",
       " [-0.02582534309476614],\n",
       " [-0.008232582134327718],\n",
       " [-0.030959864240139724],\n",
       " [-0.01606633877880605],\n",
       " [0.010783927060297823],\n",
       " [-0.00936159744950211],\n",
       " [-0.015907487738877533],\n",
       " [-0.04388090358780963],\n",
       " [-0.04287079603278211],\n",
       " [0.01726987517571875],\n",
       " [0.0011372729703517897],\n",
       " [-0.028978450652877134],\n",
       " [0.005689420763935362],\n",
       " [-0.007871864203895842],\n",
       " [-0.024751604295202664],\n",
       " [-0.014057086561141269],\n",
       " [0.011860128053064857],\n",
       " [0.032785936152296406],\n",
       " [-0.02157139559276402],\n",
       " [-0.027064482598091542],\n",
       " [0.007733703817107848],\n",
       " [-0.012744904535689524],\n",
       " [-0.03027302685991994],\n",
       " [0.004112614169051605],\n",
       " [-0.0020492723411215203],\n",
       " [0.02491713436320424],\n",
       " [0.027419235450880867],\n",
       " [0.024748737651056476],\n",
       " [0.015741940295057637],\n",
       " [0.014593595033511519],\n",
       " [0.0007862155192664692],\n",
       " [-0.013908742118759879],\n",
       " [0.0030335582593189817],\n",
       " [0.011768148580865402],\n",
       " [0.015671060415271703],\n",
       " [0.010778236475640109],\n",
       " [0.00614049867103209],\n",
       " [-0.013740795563041633],\n",
       " [-0.019493114747040505],\n",
       " [-0.007259602372401527],\n",
       " [0.036308750792107145],\n",
       " [-0.011061469723998536],\n",
       " [0.058398439229599065],\n",
       " [0.0015130683447101287],\n",
       " [-0.019881347899458238],\n",
       " [-0.007417407066428235],\n",
       " [0.037865610939583606],\n",
       " [0.005200849860557355],\n",
       " [-0.029158849635028412],\n",
       " [0.014211585935637622],\n",
       " [-0.006586864181528134],\n",
       " [-0.01387847559360255],\n",
       " [-0.012001853476145437],\n",
       " [-0.028491238142097634],\n",
       " [-0.0033294073385020185],\n",
       " [-0.004180245424244536],\n",
       " [0.00895101563738925],\n",
       " [-0.0027286823730849263],\n",
       " [0.021477011002467145]]"
      ]
     },
     "execution_count": 13,
     "metadata": {},
     "output_type": "execute_result"
    }
   ],
   "source": [
    "temp_x[0]"
   ]
  },
  {
   "cell_type": "code",
   "execution_count": 14,
   "metadata": {},
   "outputs": [],
   "source": [
    "# X_train, X_test, y_train, y_test = train_test_split(X, y, test_size=0.2, random_state=42)\n",
    "X_train, X_test, y_train, y_test = train_test_split(temp_x, y, test_size=0.2, random_state=42)"
   ]
  },
  {
   "cell_type": "code",
   "execution_count": 15,
   "metadata": {},
   "outputs": [],
   "source": [
    "X_train=torch.FloatTensor(X_train)\n",
    "X_test=torch.FloatTensor(X_test)\n",
    "y_train=torch.Tensor(y_train)\n",
    "y_test=torch.Tensor(y_test)"
   ]
  },
  {
   "cell_type": "code",
   "execution_count": 16,
   "metadata": {},
   "outputs": [],
   "source": [
    "BATCH_SIZE = 16"
   ]
  },
  {
   "cell_type": "code",
   "execution_count": 17,
   "metadata": {},
   "outputs": [],
   "source": [
    "train_ds = TensorDataset(X_train, y_train)\n",
    "train_dl = DataLoader(train_ds, batch_size=BATCH_SIZE, shuffle=True)\n",
    "\n",
    "test_ds = TensorDataset(X_test, y_test)\n",
    "test_dl = DataLoader(test_ds, batch_size=BATCH_SIZE * 2)"
   ]
  },
  {
   "cell_type": "code",
   "execution_count": 18,
   "metadata": {},
   "outputs": [],
   "source": [
    "# parameters \n",
    "\n",
    "# N_STEPS = 140\n",
    "# N_INPUTS = 300\n",
    "# N_NEURONS = 300\n",
    "# N_OUTPUTS = 2\n",
    "# N_EPHOCS = 10\n",
    "\n",
    "N_STEPS = 300\n",
    "N_INPUTS = 1\n",
    "N_NEURONS = 300\n",
    "N_OUTPUTS = 2\n",
    "N_EPHOCS = 10"
   ]
  },
  {
   "cell_type": "code",
   "execution_count": 19,
   "metadata": {},
   "outputs": [],
   "source": [
    "class Factual_LSTM(nn.Module):\n",
    "    def __init__(self, batch_size, n_steps, n_inputs, n_neurons, n_outputs):\n",
    "        super(Factual_LSTM, self).__init__()\n",
    "        \n",
    "        self.n_neurons = n_neurons\n",
    "        self.batch_size = batch_size\n",
    "        self.n_steps = n_steps\n",
    "        self.n_inputs = n_inputs\n",
    "        self.n_outputs = n_outputs\n",
    "        \n",
    "        print(batch_size, n_steps, n_inputs, n_neurons, n_outputs)\n",
    "        self.lstm = nn.LSTM(self.n_inputs, self.n_neurons,3,dropout=0.2)\n",
    "#         self.lstm = nn.LSTM(self.n_inputs, self.n_neurons,3)\n",
    "        \n",
    "        self.FC = nn.Linear(self.n_neurons, self.n_outputs)\n",
    "        \n",
    "    def init_hidden(self,):\n",
    "        # (num_layers, batch_size, n_neurons)\n",
    "        return (torch.zeros(1, self.batch_size, self.n_neurons),torch.zeros(1, self.batch_size, self.n_neurons))\n",
    "        \n",
    "    def forward(self, X):\n",
    "        # transforms X to dimensions: n_steps X batch_size X n_inputs\n",
    "        X = X.permute(1, 0, 2) \n",
    "        \n",
    "        self.batch_size = X.size(1)\n",
    "        self.hidden = self.init_hidden()\n",
    "        \n",
    "        lstm_out, self.hidden = self.lstm(X)  \n",
    "        out = self.FC(lstm_out[-1])\n",
    "        \n",
    "        return out.view(-1, self.n_outputs)\n"
   ]
  },
  {
   "cell_type": "code",
   "execution_count": 20,
   "metadata": {},
   "outputs": [
    {
     "name": "stdout",
     "output_type": "stream",
     "text": [
      "16 300 1 300 2\n"
     ]
    }
   ],
   "source": [
    "device = torch.device(\"cuda:0\" if torch.cuda.is_available() else \"cpu\")\n",
    "\n",
    "model = Factual_LSTM(BATCH_SIZE, N_STEPS, N_INPUTS, N_NEURONS, N_OUTPUTS)\n",
    "criterion = F.cross_entropy\n",
    "optimizer = optim.Adam(model.parameters(), lr=5e-3)\n",
    "# optimizer = optim.SGD(model.parameters(), lr =5e-3, momentum=0.9)\n",
    "\n",
    "def get_accuracy(logit, target, batch_size):\n",
    "    corrects = (torch.max(logit, 1)[1].view(target.size()).data == target.data).sum()\n",
    "    accuracy = 100.0 * corrects/batch_size\n",
    "    return accuracy.item()"
   ]
  },
  {
   "cell_type": "code",
   "execution_count": 21,
   "metadata": {},
   "outputs": [],
   "source": [
    "def eval_model(model, val_iter):\n",
    "    total_epoch_loss = 0\n",
    "    valid_acc = 0\n",
    "    total_epoch_acc=0\n",
    "    model.cuda()\n",
    "    model.eval()\n",
    "    num_corrects=0\n",
    "    total=0\n",
    "    with torch.no_grad():\n",
    "        for idx, batch in enumerate(val_iter):\n",
    "            inputs = batch[0]\n",
    "            \n",
    "            target = batch[1]\n",
    "            target = torch.autograd.Variable(target).long()\n",
    "            \n",
    "            inputs=inputs.cuda()\n",
    "            target=target.cuda()\n",
    "            prediction = model(inputs)\n",
    "            loss = criterion(prediction, target)\n",
    "        \n",
    "            _, predicted = torch.max(prediction.data, 1)\n",
    "            num_corrects += (predicted == target).sum().item()\n",
    "            \n",
    "            total+=target.size(0)\n",
    "            total_epoch_loss += loss.item()\n",
    "        acc = 100.0 * num_corrects/total\n",
    "        \n",
    "    return total_epoch_loss/len(val_iter), acc"
   ]
  },
  {
   "cell_type": "code",
   "execution_count": 22,
   "metadata": {},
   "outputs": [
    {
     "name": "stdout",
     "output_type": "stream",
     "text": [
      "Epoch:  0 | Train_Loss: 0.6976 | Train_Accuracy: 53.39 | Validation_Loss: 0.6864 | Validation_Accuracy: 55.96\n",
      "Epoch:  1 | Train_Loss: 0.6905 | Train_Accuracy: 54.90 | Validation_Loss: 0.6864 | Validation_Accuracy: 55.96\n",
      "Epoch:  2 | Train_Loss: 0.6904 | Train_Accuracy: 54.88 | Validation_Loss: 0.6863 | Validation_Accuracy: 55.96\n",
      "Epoch:  3 | Train_Loss: 0.6906 | Train_Accuracy: 54.85 | Validation_Loss: 0.6862 | Validation_Accuracy: 55.96\n",
      "Epoch:  4 | Train_Loss: 0.6901 | Train_Accuracy: 54.89 | Validation_Loss: 0.6864 | Validation_Accuracy: 55.96\n",
      "Epoch:  5 | Train_Loss: 0.6902 | Train_Accuracy: 54.88 | Validation_Loss: 0.6863 | Validation_Accuracy: 55.96\n",
      "Epoch:  6 | Train_Loss: 0.6906 | Train_Accuracy: 54.70 | Validation_Loss: 0.6862 | Validation_Accuracy: 55.96\n",
      "Epoch:  7 | Train_Loss: 0.6908 | Train_Accuracy: 54.89 | Validation_Loss: 0.6871 | Validation_Accuracy: 55.96\n",
      "Epoch:  8 | Train_Loss: 0.6903 | Train_Accuracy: 54.89 | Validation_Loss: 0.6862 | Validation_Accuracy: 55.96\n",
      "Epoch:  9 | Train_Loss: 0.6904 | Train_Accuracy: 54.89 | Validation_Loss: 0.6868 | Validation_Accuracy: 55.96\n"
     ]
    }
   ],
   "source": [
    "for_plot_loss=[]\n",
    "for_plot_acc=[]\n",
    "\n",
    "val_loss=[]\n",
    "val_acc=[]\n",
    "for epoch in range(N_EPHOCS):\n",
    "    train_running_loss = 0.0\n",
    "    train_acc = 0.0\n",
    "    model.cuda()\n",
    "    model.train()\n",
    "    num_corrects=0\n",
    "    total=0\n",
    "    \n",
    "    for i, data in enumerate(train_dl):\n",
    "        optimizer.zero_grad()\n",
    "        \n",
    "        model.hidden = model.init_hidden() \n",
    "        \n",
    "        inputs, labels = data\n",
    "        inputs = inputs.view(-1, 300,1)\n",
    "        \n",
    "        inputs=inputs.cuda()\n",
    "        labels=labels.cuda()\n",
    "        outputs = model(inputs)\n",
    "        loss = criterion(outputs, labels.long())\n",
    "        loss.backward()\n",
    "        optimizer.step()\n",
    "\n",
    "        train_running_loss += loss.detach().item()\n",
    "        \n",
    "        _, predicted = torch.max(outputs.data, 1)\n",
    "        num_corrects += (predicted == labels.long()).sum().item()\n",
    "        total+=labels.size(0)\n",
    "    \n",
    "    acc = 100.0 * num_corrects/total\n",
    "    for_plot_loss.append(train_running_loss/i)\n",
    "    for_plot_acc.append(acc)\n",
    "    \n",
    "    model.eval()\n",
    "    \n",
    "    valid_loss,valid_accuracy=eval_model(model,test_dl)\n",
    "    \n",
    "    val_loss.append(valid_loss)\n",
    "    val_acc.append(valid_accuracy)\n",
    "    \n",
    "#     print('Epoch:  %d | Loss: %.4f | Train Accuracy: %.2f' \n",
    "#           %(epoch, train_running_loss / i, acc),'==>',valid_loss,valid_accuracy)\n",
    "    print('Epoch:  %d | Train_Loss: %.4f | Train_Accuracy: %.2f | Validation_Loss: %.4f | Validation_Accuracy: %.2f' \n",
    "          %(epoch, train_running_loss / i, acc,valid_loss,valid_accuracy))"
   ]
  },
  {
   "cell_type": "code",
   "execution_count": null,
   "metadata": {},
   "outputs": [],
   "source": []
  },
  {
   "cell_type": "code",
   "execution_count": 23,
   "metadata": {},
   "outputs": [
    {
     "data": {
      "image/png": "[encoded data removed]",
      "text/plain": [
       "<Figure size 432x288 with 1 Axes>"
      ]
     },
     "metadata": {
      "needs_background": "light"
     },
     "output_type": "display_data"
    },
    {
     "data": {
      "image/png": "[encoded data removed]",
      "text/plain": [
       "<Figure size 432x288 with 1 Axes>"
      ]
     },
     "metadata": {
      "needs_background": "light"
     },
     "output_type": "display_data"
    },
    {
     "data": {
      "image/png": "[encoded data removed]",
      "text/plain": [
       "<Figure size 432x288 with 1 Axes>"
      ]
     },
     "metadata": {
      "needs_background": "light"
     },
     "output_type": "display_data"
    },
    {
     "data": {
      "image/png": "[encoded data removed]",
      "text/plain": [
       "<Figure size 432x288 with 1 Axes>"
      ]
     },
     "metadata": {
      "needs_background": "light"
     },
     "output_type": "display_data"
    }
   ],
   "source": [
    "import matplotlib.pyplot as plt\n",
    "\n",
    "plt.title('Train loss')\n",
    "plt.plot(range(len(for_plot_loss)),for_plot_loss, color='r')\n",
    "plt.xlabel('#epochs')\n",
    "plt.ylabel('Loss')\n",
    "plt.show()\n",
    "\n",
    "plt.title('Train Accuracy')\n",
    "plt.plot(range(len(for_plot_acc)),for_plot_acc,color='r')\n",
    "plt.xlabel('#epochs')\n",
    "plt.ylabel('Accuracy')\n",
    "plt.show()\n",
    "\n",
    "plt.title('Validation loss')\n",
    "plt.plot(range(len(val_loss)),val_loss,color='b')\n",
    "plt.xlabel('#epochs')\n",
    "plt.ylabel('Loss')\n",
    "plt.show()\n",
    "\n",
    "plt.title('Validation Accuracy')\n",
    "plt.plot(range(len(val_acc)),val_acc,color='b')\n",
    "plt.xlabel('#epochs')\n",
    "plt.ylabel('Accuracy')\n",
    "plt.show()"
   ]
  },
  {
   "cell_type": "code",
   "execution_count": 24,
   "metadata": {},
   "outputs": [
    {
     "data": {
      "image/png": "[encoded data removed]",
      "text/plain": [
       "<Figure size 432x288 with 1 Axes>"
      ]
     },
     "metadata": {
      "needs_background": "light"
     },
     "output_type": "display_data"
    },
    {
     "data": {
      "image/png": "[encoded data removed]",
      "text/plain": [
       "<Figure size 432x288 with 1 Axes>"
      ]
     },
     "metadata": {
      "needs_background": "light"
     },
     "output_type": "display_data"
    }
   ],
   "source": [
    "plt.title('Train and Validation Loss')\n",
    "plt.plot(range(len(for_plot_loss)),for_plot_loss, color='r',label='train set')\n",
    "plt.plot(range(len(val_loss)),val_loss,label='validation set')\n",
    "plt.xlabel('#epochs')\n",
    "plt.ylabel('Loss')\n",
    "plt.legend()\n",
    "plt.show()\n",
    "\n",
    "plt.title('Train and validation Accuracy')\n",
    "plt.plot(range(len(for_plot_acc)),for_plot_acc,color='r',label='train set')\n",
    "plt.plot(range(len(val_acc)),val_acc,label='validation set')\n",
    "plt.xlabel('#epochs')\n",
    "plt.ylabel('Accuracy')\n",
    "plt.legend()\n",
    "plt.show()"
   ]
  },
  {
   "cell_type": "code",
   "execution_count": null,
   "metadata": {},
   "outputs": [],
   "source": []
  },
  {
   "cell_type": "code",
   "execution_count": null,
   "metadata": {},
   "outputs": [],
   "source": []
  }
 ],
 "metadata": {
  "kernelspec": {
   "display_name": "Python 3",
   "language": "python",
   "name": "python3"
  },
  "language_info": {
   "codemirror_mode": {
    "name": "ipython",
    "version": 3
   },
   "file_extension": ".py",
   "mimetype": "text/x-python",
   "name": "python",
   "nbconvert_exporter": "python",
   "pygments_lexer": "ipython3",
   "version": "3.7.1"
  }
 },
 "nbformat": 4,
 "nbformat_minor": 2
}
