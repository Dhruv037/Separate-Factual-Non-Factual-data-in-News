{
 "cells": [
  {
   "cell_type": "code",
   "execution_count": 2,
   "metadata": {},
   "outputs": [],
   "source": [
    "from glob import glob\n",
    "import numpy as np\n",
    "from sklearn.externals import joblib\n",
    "from nltk.tokenize import sent_tokenize, word_tokenize"
   ]
  },
  {
   "cell_type": "code",
   "execution_count": 21,
   "metadata": {},
   "outputs": [],
   "source": [
    "folders= glob(\"C:\\\\Users\\\\dell4\\\\Desktop\\\\IR project\\\\database.mpqa.1.2\\\\docs\\\\*\")"
   ]
  },
  {
   "cell_type": "code",
   "execution_count": 22,
   "metadata": {},
   "outputs": [],
   "source": [
    "dataset_with_labels = []"
   ]
  },
  {
   "cell_type": "code",
   "execution_count": 23,
   "metadata": {},
   "outputs": [],
   "source": [
    "for folder in folders:\n",
    "    files = glob(folder + \"\\\\*\")\n",
    "    for file in files:\n",
    "        with open(file,'r') as f:\n",
    "            data = f.read()\n",
    "        z = file.split(\"\\\\\")\n",
    "        z = z[-2] + \"\\\\\" + z[-1]\n",
    "        \n",
    "        with open(\"C:\\\\Users\\\\dell4\\\\Desktop\\\\IR project\\\\database.mpqa.1.2\\\\man_anns\\\\\" + z + \"\\\\gatesentences.mpqa.1.2\",'r') as f:\n",
    "            mpqa = f.read()\n",
    "        mpqa = mpqa.split(\"\\n\")\n",
    "        annot = dict()\n",
    "        for l in mpqa:\n",
    "            ind = l.split('\\t')\n",
    "            if len(ind) > 1:\n",
    "                ind = ind[1].split(',')\n",
    "                ind = (int(ind[0]), int(ind[1]))\n",
    "                annot[ind] = 0\n",
    "        \n",
    "        with open(\"C:\\\\Users\\\\dell4\\\\Desktop\\\\IR project\\\\database.mpqa.1.2\\\\man_anns\\\\\" + z + \"\\\\gateman.mpqa.lre.1.2\",'r') as f:\n",
    "            lre = f.read()\n",
    "        lre = lre.split(\"\\n\")\n",
    "        phr_indices = []\n",
    "        for sent in lre:\n",
    "            if \"GATE_direct-subjective\" in sent:\n",
    "                if \"insubstantial\" in sent:\n",
    "                    continue\n",
    "                if \" intensity\" in sent:\n",
    "                    intensity = sent.split(\" intensity=\")[1].split(\" \")[0][1:-1]\n",
    "                    if intensity == 'low' or intensity == \"neutral\":\n",
    "                        continue\n",
    "                phr_ind = sent.split(\"\\t\")[1].split(\",\")\n",
    "                phr_ind = (int(phr_ind[0]), int(phr_ind[1]))\n",
    "                phr_indices.append(phr_ind)\n",
    "        \n",
    "            elif \"GATE_expressive-subjectivity\" in sent:\n",
    "                if \" intensity\" in sent:\n",
    "                    intensity = sent.split(\" intensity=\")[1].split(\" \")[0][1:-1]\n",
    "                    if intensity == 'low':\n",
    "                        continue\n",
    "                phr_ind = sent.split(\"\\t\")[1].split(\",\")\n",
    "                phr_ind = (int(phr_ind[0]), int(phr_ind[1]))\n",
    "                phr_indices.append(phr_ind)\n",
    "        \n",
    "        annot_sent_with_label = []\n",
    "        for k in annot:\n",
    "            for l in phr_indices:\n",
    "                if k[0] <= l[0] and k[1] >= l[1]:\n",
    "                    annot[k] += 1\n",
    "        for k in annot:\n",
    "            if annot[k] == 0:\n",
    "                annot_sent_with_label.append([data[k[0]:k[1]], 1])\n",
    "            else:\n",
    "                annot_sent_with_label.append([data[k[0]:k[1]], 0])\n",
    "        \n",
    "        dataset_with_labels += annot_sent_with_label"
   ]
  },
  {
   "cell_type": "code",
   "execution_count": 24,
   "metadata": {},
   "outputs": [
    {
     "name": "stdout",
     "output_type": "stream",
     "text": [
      "11112\n"
     ]
    }
   ],
   "source": [
    "print(len(dataset_with_labels))"
   ]
  },
  {
   "cell_type": "code",
   "execution_count": null,
   "metadata": {},
   "outputs": [],
   "source": [
    "fn = 'dataset_with_labels.sav'\n",
    "joblib.dump(dataset_with_labels,fn)"
   ]
  },
  {
   "cell_type": "code",
   "execution_count": 3,
   "metadata": {},
   "outputs": [],
   "source": [
    "dataset_with_labels = joblib.load('dataset_with_labels.sav')"
   ]
  },
  {
   "cell_type": "code",
   "execution_count": 4,
   "metadata": {},
   "outputs": [
    {
     "data": {
      "text/plain": [
       "11112"
      ]
     },
     "execution_count": 4,
     "metadata": {},
     "output_type": "execute_result"
    }
   ],
   "source": [
    "len(dataset_with_labels)"
   ]
  },
  {
   "cell_type": "code",
   "execution_count": 6,
   "metadata": {},
   "outputs": [
    {
     "name": "stdout",
     "output_type": "stream",
     "text": [
      "['Between one and 10 cases of Congo Fever are reported in South Africa annually, with about 20 to 25 percent of patients dying, according to statistics from the virology institute.', 1]\n",
      "['Saeed said indications were that those tests would be negative too.', 0]\n",
      "['A total of 158 cases of Congo Fever were diagnosed in southern Africa between 1981 and the end of 2000.', 1]\n",
      "['He said it was his opinion that the patient -- a woman -- was suffering from tick bite fever.', 0]\n",
      "['Early symptoms of the disease include severe headaches, red eyes, fevers and cold chills, body pain, and vomiting.', 1]\n",
      "['The two have similar symptoms.', 1]\n",
      "['The disease can be contracted if a person is bitten by a certain tick or if a person comes into contact with the blood of a Congo Fever sufferer.', 1]\n",
      "['The woman was admitted to the hospital on Saturday after complaining of severe joint pains.', 0]\n",
      "['She also had a skin rash and was vomiting.', 1]\n",
      "['The patient told hospital authorities she became sick after being bitten by a tick about four months ago.', 1]\n",
      "[\"Although the woman's condition had deteriorated on Sunday it was showing improvement on Monday.\", 1]\n",
      "[\"Medical Department head Dr Hamid Saeed said the patient's blood had been sent to the Institute for Virology in Johannesburg for analysis and the results of the first two sets of tests -- for illnesses other than Congo fever -- arrived back on Monday night and were negative.\", 1]\n",
      "['By afternoon she was conversing with her husband after being semi-comatose in the morning.', 1]\n",
      "['A set of tests specifically for Congo fever were still outstanding.', 1]\n",
      "['The Kimberley Provincial Hospital said it would probably know by Tuesday whether one of its patients had Congo Fever.', 1]\n",
      "['The repeated breaching of the embankments of the Yongding and Chaobai rivers also resulted in the desertification of the land with heavy sand being deposited by floods.', 1]\n",
      "[\"Private organizations are also being encouraged to help fight sandstorms, according to the administration's vice-director Li Yucai.\", 1]\n",
      "['Favourable taxation policies will also be given to people engaged in the transformation of desertificated land.', 1]\n",
      "['Beijing has completed the afforestation of 4,000 hectares over the past six months, the municipal forestry bureau revealed yesterday.', 1]\n",
      "['The green belts have helped protect the crops from sand, wind, drought and floods to guarantee grain production, Cai said.', 1]\n",
      "['Over the next 10 years, China will invest 6 billion yuan (US$720 million) to prevent sandstorms hitting Beijing, according to sources from the State Forestry Administration.', 1]\n",
      "[\"By 2005, 50 per cent of Beijing's land, including both urban and rural areas, will have been covered with trees.\", 1]\n",
      "['Forestry experts said dry weather and temperature fluctuations were the main cause of sandstorms.', 1]\n",
      "['Beijing was struck by sandstorms several times this spring.', 1]\n",
      "[\"A 200-metre belt of trees has been planted on each side of the Yongding, Chaobai, Dasha and Wenyu rivers, which was previously the city's most desertificated land.\", 1]\n",
      "[\"The shifting dunes in Beijing's suburbs and rural areas have been successfully controlled by green barriers of trees and grass, which have also helped upgrade the city's forest proportion to 43 per cent, 23 percentage points higher than the nation's metropolitan average.\", 1]\n",
      "['\"We planted trees mainly in the major five areas that are severely endangered by sandy wind,\" said Cai Baojun, an official with the bureau in charge of forest planting.', 1]\n",
      "[\"It is believed that sand from northern areas, especially the Inner Mongolia Autonomous Region, and floating dust from the city's uncovered construction sites are the main causes.\", 1]\n",
      "[\"BRUSSELS, June 29 (AFP) -- Nearly 100 donor countries and international organizations opened their checkbooks here Friday to bail out struggling Yugoslavia after Slobodan Milosevic's lightning transfer to the UN war crimes tribunal in The Hague.\", 1]\n",
      "[\"Labus said the United States, which had until the last minute been uncertain of attending the conference, contingent on Milosevic's extradition, pledged 181.6 million dollars during the morning session.\", 1]\n",
      "['The Stability Pact was launched two years ago to rebuild the region after years of war and communism.', 1]\n",
      "['\"We decided to make some bold decisions,\" he said.', 1]\n",
      "['\"Nobody is happy when a former president is taken before the tribunal in The Hague, but it had to happen and the sooner the better,\" Yugoslav Deputy Prime Minister Miroljub Labus told reporters on his arrival here.', 0]\n",
      "['Japanese Ambassador to the EU Takayuki Kimura said his country had pledged 50 million dollars, in addition to technical assistance and another 10 million dollars to the whole of southeast Europe, most of it to Yugoslavia.', 1]\n",
      "['\"But the costs of failing to support Yugoslavia as it struggles to break with the past would surely be higher still.', 0]\n",
      "['The European Commission anounced it had pledged a financial package of grants and loans totalling 530 million euros (450 million dollars).', 1]\n",
      "['\"We are in the middle of a very complicated process of changing almost completely our political and economic system...This process is long and painful, but we are determined to win.\"', 0]\n",
      "[\"We are now fully back into the international community, politically, diplomatically and financially, and that's very important for us.\", 0]\n",
      "['\"There is no quick fix\" to the Yugoslav problem, the World Bank\\'s Johannes Linn said.', 1]\n",
      "['\"The possibility of a democratic, stable and prosperous Yugoslavia moving toward integration with Europe is something which we dared not hope for only eight months ago.\"', 0]\n",
      "[\"The donors' conference, co-sponsored by the European Commission and the World Bank, was hoping to raise 1.25 billion dollars (1.47 billion euros) for Yugoslavia this year for urgent repairs to infrastructure and salaries to teachers and other civil servants.\", 0]\n",
      "['A German source said Germany had pledged 153 million marks (66.32 million dollars).', 1]\n",
      "['\"This pledge is in addition to the pledges of individual EU member states that will be made separately at the conference,\" said Gunnar Wiegand, spokesman for External Affairs Commissioner Chris Patten.', 1]\n",
      "['Johannes Linn, World Bank vice-president for Europe and Central Asia, said the bank had pledged 150 million dollars for the current calendar year and \"over the next three years we expect to support Yugoslavia to the tune of about 540 million US dollars in concessional loans.\"', 1]\n",
      "['Labus said Milosevic\\'s extradition \"is of course a part of the equation,\" but added \"broad economic reforms and democracy that we introduced into the country\" had played a major role.', 1]\n",
      "['\"The fact that Milosevic is on the way to be brought to justice is just a signal that my country is ready to respect all international obligations.\"', 0]\n",
      "['\"A Yugoslavia that has a firm and decisive program of economic reforms in place is and is increasingly integrated into the wider international community is no longer a dream, it is now a reality.\"', 0]\n",
      "['In Berlin, Bodo Hombach, coordinator of the Balkans Stability Pact, said several delegations to the Brussels conference told him it was now \"easier and more motivating\" to supply Belgrade with the aid it desperately needs.', 0]\n",
      "['By midday, the conference had garnered pledges totalling some 1.37 billion dollars in grants and low- or no-interest loans over the next three years, against the target figure set by the World Bank of 3.9 billion dollars for what Belgrade would need for the three-year period.', 1]\n",
      "['Linn said that as a result of recent changes in Belgrade, including the Milosevic extradition, \"we will now be talking about Yugoslavia as an integral part of the successful formula of trust for economic recovery in the region.\"', 0]\n"
     ]
    }
   ],
   "source": [
    "for i in range(50):\n",
    "    print(dataset_with_labels[i])"
   ]
  },
  {
   "cell_type": "code",
   "execution_count": 7,
   "metadata": {},
   "outputs": [],
   "source": [
    "doc_wise_dataset_with_lbs = []"
   ]
  },
  {
   "cell_type": "code",
   "execution_count": 25,
   "metadata": {},
   "outputs": [],
   "source": [
    "for folder in folders:\n",
    "    files = glob(folder + \"\\\\*\")\n",
    "    for file in files:\n",
    "        with open(file,'r') as f:\n",
    "            data = f.read()\n",
    "        z = file.split(\"\\\\\")\n",
    "        z = z[-2] + \"\\\\\" + z[-1]\n",
    "        \n",
    "        with open(\"C:\\\\Users\\\\dell4\\\\Desktop\\\\IR project\\\\database.mpqa.1.2\\\\man_anns\\\\\" + z + \"\\\\gatesentences.mpqa.1.2\",'r') as f:\n",
    "            mpqa = f.read()\n",
    "        mpqa = mpqa.split(\"\\n\")\n",
    "        annot = dict()\n",
    "        for l in mpqa:\n",
    "            ind = l.split('\\t')\n",
    "            if len(ind) > 1:\n",
    "                ind = ind[1].split(',')\n",
    "                ind = (int(ind[0]), int(ind[1]))\n",
    "                annot[ind] = 0\n",
    "        \n",
    "        with open(\"C:\\\\Users\\\\dell4\\\\Desktop\\\\IR project\\\\database.mpqa.1.2\\\\man_anns\\\\\" + z + \"\\\\gateman.mpqa.lre.1.2\",'r') as f:\n",
    "            lre = f.read()\n",
    "        lre = lre.split(\"\\n\")\n",
    "        phr_indices = []\n",
    "        for sent in lre:\n",
    "            if \"GATE_direct-subjective\" in sent:\n",
    "                if \"insubstantial\" in sent:\n",
    "                    continue\n",
    "                if \" intensity\" in sent:\n",
    "                    intensity = sent.split(\" intensity=\")[1].split(\" \")[0][1:-1]\n",
    "                    if intensity == 'low' or intensity == \"neutral\":\n",
    "                        continue\n",
    "                phr_ind = sent.split(\"\\t\")[1].split(\",\")\n",
    "                phr_ind = (int(phr_ind[0]), int(phr_ind[1]))\n",
    "                phr_indices.append(phr_ind)\n",
    "        \n",
    "            elif \"GATE_expressive-subjectivity\" in sent:\n",
    "                if \" intensity\" in sent:\n",
    "                    intensity = sent.split(\" intensity=\")[1].split(\" \")[0][1:-1]\n",
    "                    if intensity == 'low':\n",
    "                        continue\n",
    "                phr_ind = sent.split(\"\\t\")[1].split(\",\")\n",
    "                phr_ind = (int(phr_ind[0]), int(phr_ind[1]))\n",
    "                phr_indices.append(phr_ind)\n",
    "        \n",
    "        annot_sent_with_label = []\n",
    "        for k in annot:\n",
    "            for l in phr_indices:\n",
    "                if k[0] <= l[0] and k[1] >= l[1]:\n",
    "                    annot[k] += 1\n",
    "        for k in annot:\n",
    "            if annot[k] == 0:\n",
    "                annot_sent_with_label.append([data[k[0]:k[1]], 1])\n",
    "            else:\n",
    "                annot_sent_with_label.append([data[k[0]:k[1]], 0])\n",
    "        \n",
    "        doc_wise_dataset_with_lbs.append(annot_sent_with_label)"
   ]
  },
  {
   "cell_type": "code",
   "execution_count": 30,
   "metadata": {},
   "outputs": [
    {
     "data": {
      "text/plain": [
       "535"
      ]
     },
     "execution_count": 30,
     "metadata": {},
     "output_type": "execute_result"
    }
   ],
   "source": [
    "len(doc_wise_dataset_with_lbs)"
   ]
  },
  {
   "cell_type": "code",
   "execution_count": 32,
   "metadata": {},
   "outputs": [
    {
     "data": {
      "text/plain": [
       "['doc_wise_dataset_with_lbs.sav']"
      ]
     },
     "execution_count": 32,
     "metadata": {},
     "output_type": "execute_result"
    }
   ],
   "source": [
    "fn = 'doc_wise_dataset_with_lbs.sav'\n",
    "joblib.dump(doc_wise_dataset_with_lbs,fn)"
   ]
  },
  {
   "cell_type": "code",
   "execution_count": null,
   "metadata": {},
   "outputs": [],
   "source": []
  }
 ],
 "metadata": {
  "kernelspec": {
   "display_name": "Python 3",
   "language": "python",
   "name": "python3"
  },
  "language_info": {
   "codemirror_mode": {
    "name": "ipython",
    "version": 3
   },
   "file_extension": ".py",
   "mimetype": "text/x-python",
   "name": "python",
   "nbconvert_exporter": "python",
   "pygments_lexer": "ipython3",
   "version": "3.6.8"
  }
 },
 "nbformat": 4,
 "nbformat_minor": 2
}
